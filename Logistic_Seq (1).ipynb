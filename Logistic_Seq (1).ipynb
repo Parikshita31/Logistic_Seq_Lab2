{
  "metadata": {
    "language_info": {
      "codemirror_mode": {
        "name": "python",
        "version": 3
      },
      "file_extension": ".py",
      "mimetype": "text/x-python",
      "name": "python",
      "nbconvert_exporter": "python",
      "pygments_lexer": "ipython3",
      "version": "3.8"
    },
    "kernelspec": {
      "name": "python",
      "display_name": "Python (Pyodide)",
      "language": "python"
    }
  },
  "nbformat_minor": 4,
  "nbformat": 4,
  "cells": [
    {
      "cell_type": "code",
      "source": "import matplotlib.pyplot as plt",
      "metadata": {
        "trusted": true
      },
      "execution_count": 2,
      "outputs": []
    },
    {
      "cell_type": "code",
      "source": "p = [0.5] #create a list a with first element of value p_o\n\nn = 20 #choose your value of n\n\nk = 1.5 #choose your value of k\n\nfor _ in range(n): #execute the following code n times\n    p += [k * p[-1]*(1-p[-1]) ]  # append the content of the square brackets to the list. p[-1] is the previous last element of the list.\n\nprint(p)\nplt.plot(p) #plot the content of p.\nplt.show() #show the plot we just created",
      "metadata": {},
      "execution_count": null,
      "outputs": []
    }
  ]
}